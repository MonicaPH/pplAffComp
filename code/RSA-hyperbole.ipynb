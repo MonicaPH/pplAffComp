{
 "cells": [
  {
   "cell_type": "markdown",
   "metadata": {},
   "source": [
    "# The Rational Speech Act framework\n",
    "\n"
   ]
  },
  {
   "cell_type": "code",
   "execution_count": 1,
   "metadata": {},
   "outputs": [],
   "source": [
    "import torch\n",
    "\n",
    "import collections\n",
    "import argparse\n",
    "\n",
    "import pyro\n",
    "import pyro.distributions as dist\n",
    "import pyro.poutine as poutine"
   ]
  },
  {
   "cell_type": "code",
   "execution_count": 2,
   "metadata": {},
   "outputs": [
    {
     "name": "stdout",
     "output_type": "stream",
     "text": [
      "/Users/ngoodman/pplAffComp/code/utils\n"
     ]
    }
   ],
   "source": [
    "cd \"utils\""
   ]
  },
  {
   "cell_type": "code",
   "execution_count": 4,
   "metadata": {},
   "outputs": [],
   "source": [
    "from search_inference import factor, HashingMarginal, memoize, Search"
   ]
  },
  {
   "cell_type": "markdown",
   "metadata": {},
   "source": [
    "Now define some helpers. \n",
    "\n",
    "`Marginal` takes an un-normalized stochastic function constructs the distribution over execution traces by using `Search`, and constructs the marginal distribution on return values (via `HashingMarginal`).\n",
    "\n",
    "`project` takes a distribution over some (discrete) domain and a function `qud` on this domain. It creates the push-forward distribution, using `Marginal` (as a Python decorator)."
   ]
  },
  {
   "cell_type": "code",
   "execution_count": 5,
   "metadata": {},
   "outputs": [],
   "source": [
    "torch.set_default_dtype(torch.float64)  # double precision for numerical stability\n",
    "\n",
    "def Marginal(fn):\n",
    "    return memoize(lambda *args: HashingMarginal(Search(fn).run(*args)))\n",
    "\n",
    "@Marginal\n",
    "def project(dist,qud):\n",
    "    v = pyro.sample(\"proj\",dist)\n",
    "    return qud_fns[qud](v)"
   ]
  },
  {
   "cell_type": "markdown",
   "metadata": {},
   "source": [
    "Here are a whole bunch of functions setting up the basic definitions for the example domain."
   ]
  },
  {
   "cell_type": "code",
   "execution_count": 6,
   "metadata": {},
   "outputs": [],
   "source": [
    "State = collections.namedtuple(\"State\", [\"price\", \"valence\"])\n",
    "\n",
    "\n",
    "def price_prior():\n",
    "    values = [50, 51, 500, 501, 1000, 1001, 5000, 5001, 10000, 10001]\n",
    "    probs = torch.tensor([0.4205, 0.3865, 0.0533, 0.0538, 0.0223, 0.0211, 0.0112, 0.0111, 0.0083, 0.0120])\n",
    "    ix = pyro.sample(\"price\", dist.Categorical(probs=probs))\n",
    "    return values[ix]\n",
    "\n",
    "\n",
    "def valence_prior(price):\n",
    "    probs = {\n",
    "        50: 0.3173,\n",
    "        51: 0.3173,\n",
    "        500: 0.7920,\n",
    "        501: 0.7920,\n",
    "        1000: 0.8933,\n",
    "        1001: 0.8933,\n",
    "        5000: 0.9524,\n",
    "        5001: 0.9524,\n",
    "        10000: 0.9864,\n",
    "        10001: 0.9864\n",
    "    }\n",
    "    return pyro.sample(\"valence\", dist.Bernoulli(probs=probs[price])).item() == 1\n",
    "\n",
    "\n",
    "def meaning(utterance, price):\n",
    "    return utterance == price\n",
    "\n",
    "def approx(x, b=None):\n",
    "    if b is None:\n",
    "        b = 10.\n",
    "    div = float(x)/b\n",
    "    rounded = int(div) + 1 if div - float(int(div)) >= 0.5 else int(div)\n",
    "    return int(b) * rounded\n",
    "\n",
    "qud_fns = {\n",
    "    \"price\": lambda state: State(price=state.price, valence=None),\n",
    "    \"valence\": lambda state: State(price=None, valence=state.valence),\n",
    "    \"priceValence\": lambda state: State(price=state.price, valence=state.valence),\n",
    "    \"approxPrice\": lambda state: State(price=approx(state.price), valence=None),\n",
    "    \"approxPriceValence\": lambda state: State(price=approx(state.price), valence=state.valence),\n",
    "}\n",
    "\n",
    "\n",
    "def qud_prior():\n",
    "    values = [\"price\", \"valence\", \"priceValence\", \"approxPrice\", \"approxPriceValence\"]\n",
    "    ix = pyro.sample(\"qud\", dist.Categorical(probs=torch.ones(len(values)) / len(values)))\n",
    "    return values[ix]\n",
    "\n",
    "\n",
    "def utterance_cost(numberUtt):\n",
    "    preciseNumberCost = 1.\n",
    "    return 0. if approx(numberUtt) == numberUtt else preciseNumberCost\n",
    "\n",
    "\n",
    "def utterance_prior():\n",
    "    utterances = [50, 51, 500, 501, 1000, 1001, 5000, 5001, 10000, 10001]\n",
    "    utteranceLogits = -torch.tensor(list(map(utterance_cost, utterances)),\n",
    "                                    dtype=torch.float64)\n",
    "    ix = pyro.sample(\"utterance\", dist.Categorical(logits=utteranceLogits))\n",
    "    return utterances[ix]"
   ]
  },
  {
   "cell_type": "markdown",
   "metadata": {},
   "source": [
    "And now the RSA model definitions."
   ]
  },
  {
   "cell_type": "code",
   "execution_count": 7,
   "metadata": {},
   "outputs": [],
   "source": [
    "@Marginal\n",
    "def literal_listener(utterance):\n",
    "    price = price_prior()\n",
    "    state = State(price=price, valence=valence_prior(price))\n",
    "    factor(\"literal_meaning\", 0. if meaning(utterance, price) else -999999.)\n",
    "    return state\n",
    "\n",
    "\n",
    "@Marginal\n",
    "def speaker(qudValue, qud):\n",
    "    alpha = 1.\n",
    "    with poutine.scale(scale=torch.tensor(alpha)):\n",
    "        utterance = utterance_prior()\n",
    "        literal_marginal = literal_listener(utterance)\n",
    "        projected_literal = project(literal_marginal, qud)\n",
    "        pyro.sample(\"listener\", projected_literal, obs=qudValue)\n",
    "    return utterance\n",
    "\n",
    "\n",
    "@Marginal\n",
    "def pragmatic_listener(utterance):\n",
    "    # priors\n",
    "    price = price_prior()\n",
    "    valence = valence_prior(price)\n",
    "    qud = qud_prior()\n",
    "\n",
    "    # model\n",
    "    state = State(price=price, valence=valence)\n",
    "    qudValue = qud_fns[qud](state)\n",
    "    speaker_marginal = speaker(qudValue, qud)\n",
    "    pyro.sample(\"speaker\", speaker_marginal, obs=utterance)\n",
    "    return state"
   ]
  },
  {
   "cell_type": "code",
   "execution_count": 10,
   "metadata": {},
   "outputs": [
    {
     "name": "stdout",
     "output_type": "stream",
     "text": [
      "[(State(price=50, valence=False), 0.020944558617174744), (State(price=50, valence=True), 0.18962994295418753), (State(price=51, valence=False), 0.01925106279557203), (State(price=51, valence=True), 0.1742972008366076), (State(price=500, valence=False), 0.000808846021274365), (State(price=500, valence=True), 0.059996129350093005), (State(price=501, valence=False), 0.0008164336950199049), (State(price=501, valence=True), 0.06055894482242036), (State(price=1000, valence=False), 0.00017359794987375894), (State(price=1000, valence=True), 0.028312162297699544), (State(price=1001, valence=False), 0.00016425635615857894), (State(price=1001, valence=True), 0.026788637869123784), (State(price=5000, valence=False), 3.889558295405094e-05), (State(price=5000, valence=True), 0.015160315922876049), (State(price=5001, valence=False), 3.854830096338977e-05), (State(price=5001, valence=True), 0.015024955959278942), (State(price=10000, valence=False), 0.0030440475496016244), (State(price=10000, valence=True), 0.23182161303428866), (State(price=10001, valence=False), 0.0018655171404222321), (State(price=10001, valence=True), 0.1512643329444099)]\n"
     ]
    }
   ],
   "source": [
    "pragmatic_marginal = pragmatic_listener(10000)\n",
    "\n",
    "print([(s, pragmatic_marginal.log_prob(s).exp().item())\n",
    "       for s in pragmatic_marginal.enumerate_support()])"
   ]
  }
 ],
 "metadata": {
  "kernelspec": {
   "display_name": "Python 2",
   "language": "python",
   "name": "python2"
  },
  "language_info": {
   "codemirror_mode": {
    "name": "ipython",
    "version": 2
   },
   "file_extension": ".py",
   "mimetype": "text/x-python",
   "name": "python",
   "nbconvert_exporter": "python",
   "pygments_lexer": "ipython2",
   "version": "2.7.14"
  }
 },
 "nbformat": 4,
 "nbformat_minor": 2
}
