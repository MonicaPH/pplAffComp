{
  "nbformat": 4,
  "nbformat_minor": 0,
  "metadata": {
    "colab": {
      "name": "PPLTutorial_1_LinearRegression.ipynb",
      "version": "0.3.2",
      "provenance": [],
      "collapsed_sections": [],
      "include_colab_link": true
    },
    "kernelspec": {
      "name": "python3",
      "display_name": "Python 3"
    }
  },
  "cells": [
    {
      "cell_type": "markdown",
      "metadata": {
        "id": "view-in-github",
        "colab_type": "text"
      },
      "source": [
        "<a href=\"https://colab.research.google.com/github/desmond-ong/pplAffComp/blob/master/Colab/PPLTutorial_1_LinearRegression.ipynb\" target=\"_parent\"><img src=\"https://colab.research.google.com/assets/colab-badge.svg\" alt=\"Open In Colab\"/></a>"
      ]
    },
    {
      "cell_type": "markdown",
      "metadata": {
        "id": "FRd-7YI_4WW7",
        "colab_type": "text"
      },
      "source": [
        "# Linear Regression as a model of Emotional Appraisal\n",
        "\n",
        "The first example we discuss involves building a simple linear regression model in Pyro. We consider a case that is relevant to affective computing --- how should we build a model to reason about someone's emotions? There are lots of emotion theories that one can draw from, and probabilistic programming offers an elegant way to specify (and test!) these theories.\n",
        "\n",
        "\n",
        "Before we jump in, we want to introduce the dataset that we'll be working with throughout the rest of the tutorial. This dataset is of a managable size (so training shouldn't take too long), but still complex enough that we can demonstrate some of the nice features of applying probabilistic programming to model real-life, AI-relevant examples (in this case, relevant to affective computing)."
      ]
    },
    {
      "cell_type": "markdown",
      "metadata": {
        "id": "TKBxgbzg4yNs",
        "colab_type": "text"
      },
      "source": [
        "## Dataset\n",
        "\n",
        "We will be using data from a published paper (Ong, Zaki, & Goodman, 2015; Experiment 3), which is available [here](https://github.com/desmond-ong/affCog) but we have also reproduced the data in the current repository. In this experiment, we showed human participants an agent playing a gamble; he spins a wheel with three possible outcomes, and wins the amount on the wheel. \n",
        "\n",
        "<div style=\"width: 500px; margin: auto;\"> <center>\n",
        "<img src=\"https://desmond-ong.github.io/pplAffComp/code/images/experimentSummary.png\" width=500></img> </center>\n",
        "</div>\n",
        "(Figure modified from Ong et al, 2015, Figure 9).\n",
        "\n",
        "On some trials, participants see the outcome that the agent won ((i) above). On other trials ((ii) above), participants were not shown the outcome, but instead were shown what ostensibly was the agent's facial expression after seeing the outcome. And on the last third of trials ((iii) above), participants were shown both the outcome and the agent's facial expression.\n",
        "Following these, participants were asked to rate how they thought the agent felt, on 8 emotions, using a 9 point Likert scale.\n",
        "\n",
        "Thus, the dataset consists of some \"outcome only\" trials where participants saw outcomes and rated the agent's emotions, \"facial expression only\" trials where participants attributed emotions to a facial expression, and trials where they saw both and had to integrate the information from both the outcome and the facial expression to make a judgment."
      ]
    },
    {
      "cell_type": "markdown",
      "metadata": {
        "id": "bAwnPMED4znM",
        "colab_type": "text"
      },
      "source": [
        "## Appraising the outcome\n",
        "\n",
        "Let us first consider the \"outcome only\" trials. Many established emotion theories and affective computing theories hold that people experiencing events (e.g., winning the lottery, missing the bus) will evaluate the situation according to a set of important features. Was the outcome desirable? Was the outcome surprising? Was the outcome controllable? This evaluation is known as **appraisal**.\n",
        "\n",
        "Put another way, the number of situations that people encounter in daily life vary immensely along a large number of dimensions, some important (the amount that one wins in the lottery) and some not so important (the color of the lottery ticket). **Appraisal** is computationally necessary to reduce the complexities of everyday situations into a low dimensional set of emotion-relevant dimensions.\n"
      ]
    },
    {
      "cell_type": "markdown",
      "metadata": {
        "id": "chXMYHMG43H6",
        "colab_type": "text"
      },
      "source": [
        "## A Linear Regression model with Appraisal\n",
        "\n",
        "Thus, we already have the few basic ingreidents of our theory. We have an observable variable (the outcome). We have an appraisal process that converts the outcome into a small number of relevant features. And we have the emotion ratings that people produce. Let's construct a basic regression model:\n",
        "\n",
        "<div style=\"width: 300px; margin: auto;\">\n",
        "<center>\n",
        "<img src=\"https://desmond-ong.github.io/pplAffComp/code/images/graphicalModel_LinearRegression.png\" width=300></img> </center>\n",
        "</div>\n"
      ]
    },
    {
      "cell_type": "markdown",
      "metadata": {
        "id": "0xyopv-2456x",
        "colab_type": "text"
      },
      "source": [
        "Here's how to read the model above, which uses graphical model notation. Shaded circles represent observed variables, while unshaded represents latent, or unobserved variables. Small rectangles represent parameters (to be fitted). We have $N$ i.i.d. pairs of (*Outcome*, *Emotion Ratings*), where $N$ is the size of the dataset, and so these are represented in the large rectangle (called a \"plate\"), to indicate that they are repeated $N$ times. And between these *Outcome* and *Rating* pairs, we have an appraisal transformation.\n",
        "\n",
        "In a linear regression, we have $K+1$ regression weights that map the appraisal to the emotion ratings (the $+1$ is for the bias term). If the appraisal variables are given by $\\{1, a_1, a_2, \\ldots, a_K\\} = \\vec{a}$, we can write a regression equation: \n",
        "\n",
        "*Rating* = $\\vec{\\beta} \\cdot \\vec{a}$ = $\\beta_0$ + $\\beta_1 a_1$ + $\\beta_2 a_2$ + $\\ldots$ + $\\beta_K a_K$ + $\\epsilon$\n",
        "\n",
        "where the $\\beta_i$'s represent the regression weights for the $i$-th appraisal variable, $\\beta_0$ is the bias term and $\\epsilon$ is an error term. Notice that the $\\beta_i$'s should remain the same across all $N$ observations: thus, it is left out of the \"plate\" in the model diagram above.\n",
        "\n",
        "We assume that each $\\beta_i$ is drawn from a Normal distribution parameterized by a mean (location parameter) $\\mu_i$ and a standard deviation (or scale parameter) $\\sigma_i$, i.e., $\\beta_i \\sim N(\\mu_i, \\sigma_i)$. We wish to learn these parameters $\\mu_i, \\sigma_i$ from the data.\n",
        "\n",
        "\n",
        "(Note: *Appraisal* in this model is a strange creature. We could represent it as a latent variable (so like *outcome*, but unshaded). Here, to reflect the fact that *appraisal* is a modular function that can be tested scientifically against data, we chose to represent it more like a fittable parameter.)."
      ]
    },
    {
      "cell_type": "markdown",
      "metadata": {
        "id": "hFbAL4rj5BZ-",
        "colab_type": "text"
      },
      "source": [
        "Let's write some Pyro!"
      ]
    },
    {
      "cell_type": "markdown",
      "metadata": {
        "id": "cHOMVt8F4jSf",
        "colab_type": "text"
      },
      "source": [
        "## Preamble\n",
        "\n",
        "This first chunk of code installs Pyro and other requirements on the Colab server (if not already installed), and imports the necessary python packages and functions that we will use."
      ]
    },
    {
      "cell_type": "code",
      "metadata": {
        "id": "9XCkNA_lfJwy",
        "colab_type": "code",
        "outputId": "9815cfbe-dfa5-4dfc-ac0a-519bf666331c",
        "colab": {
          "base_uri": "https://localhost:8080/",
          "height": 204
        }
      },
      "source": [
        "!pip install torch torchvision pyro-ppl\n",
        "\n",
        "#import os\n",
        "import numpy as np\n",
        "import pandas as pd\n",
        "import matplotlib.pyplot as plt\n",
        "\n",
        "import torch\n",
        "import torch.nn as nn\n",
        "\n",
        "import pyro\n",
        "import pyro.distributions as dist\n",
        "from pyro.distributions import Normal\n",
        "from pyro.infer import SVI, Trace_ELBO\n",
        "from pyro.optim import Adam\n",
        "\n",
        "print(\"Currently using Pyro version: \" + pyro.__version__)"
      ],
      "execution_count": 1,
      "outputs": [
        {
          "output_type": "stream",
          "text": [
            "Requirement already satisfied: torch in /usr/local/lib/python3.6/dist-packages (1.1.0)\n",
            "Requirement already satisfied: torchvision in /usr/local/lib/python3.6/dist-packages (0.3.0)\n",
            "Requirement already satisfied: pyro-ppl in /usr/local/lib/python3.6/dist-packages (0.4.0)\n",
            "Requirement already satisfied: numpy in /usr/local/lib/python3.6/dist-packages (from torch) (1.16.4)\n",
            "Requirement already satisfied: six in /usr/local/lib/python3.6/dist-packages (from torchvision) (1.12.0)\n",
            "Requirement already satisfied: pillow>=4.1.1 in /usr/local/lib/python3.6/dist-packages (from torchvision) (4.3.0)\n",
            "Requirement already satisfied: opt-einsum>=2.3.2 in /usr/local/lib/python3.6/dist-packages (from pyro-ppl) (3.0.0)\n",
            "Requirement already satisfied: tqdm>=4.31 in /usr/local/lib/python3.6/dist-packages (from pyro-ppl) (4.34.0)\n",
            "Requirement already satisfied: graphviz>=0.8 in /usr/local/lib/python3.6/dist-packages (from pyro-ppl) (0.10.1)\n",
            "Requirement already satisfied: olefile in /usr/local/lib/python3.6/dist-packages (from pillow>=4.1.1->torchvision) (0.46)\n",
            "Currently using Pyro version: 0.4.0\n"
          ],
          "name": "stdout"
        }
      ]
    },
    {
      "cell_type": "markdown",
      "metadata": {
        "id": "fwL3lgfo8gCz",
        "colab_type": "text"
      },
      "source": [
        "This next chunk defines some variable and names that are specific to this dataset, as well as a function to read in the data.\n",
        "\n",
        "The data is stored in `outcome_emotion_dataset`, which is a torch Tensor of size (1541, 17), indicating that there are N=1,541 observations of 17 variables. The first 9 are the parameterization of the outcome (the 3 payoffs on the wheel and their probabilities, which outcome they won and that probability, and the angle within the sector that the wheel landed on), and the next 8 are the emotion variables. All the variables are scaled so that they lie within [0,1]."
      ]
    },
    {
      "cell_type": "code",
      "metadata": {
        "id": "pZDHwcbr8iJt",
        "colab_type": "code",
        "outputId": "20160533-3c4a-4c00-ff17-b0b15b3d028a",
        "colab": {
          "base_uri": "https://localhost:8080/",
          "height": 204
        }
      },
      "source": [
        "# data location\n",
        "#dataset_path = os.path.join(os.path.abspath('..'), \"CognitionData\", \"data_wheelOnly.csv\")\n",
        "dataset_path = \"https://desmond-ong.github.io/pplAffComp/CognitionData/data_wheelOnly.csv\"\n",
        "\n",
        "OUTCOME_VAR_NAMES = [\"payoff1\", \"payoff2\", \"payoff3\", \"prob1\", \"prob2\", \"prob3\", \"win\", \"winProb\", \"angleProp\"]\n",
        "EMOTION_VAR_NAMES = [\"happy\", \"sad\", \"anger\", \"surprise\", \"disgust\", \"fear\", \"content\", \"disapp\"]\n",
        "OUTCOME_VAR_DIM = len(OUTCOME_VAR_NAMES)\n",
        "EMOTION_VAR_DIM = len(EMOTION_VAR_NAMES)\n",
        "\n",
        "def load_outcome_emotion_dataset(csv_file, normalize_values=True, preview_datafile=False):\n",
        "    data_readin = pd.read_csv(csv_file)\n",
        "    outcome_data = data_readin.loc[:,OUTCOME_VAR_NAMES]\n",
        "    if normalize_values:\n",
        "        ####\n",
        "        ## payoff1, payoff2, payoff3 and win are between 0 and 100\n",
        "        ## need to normalize to [0,1] to match the rest of the variables,\n",
        "        ## by dividing payoff1, payoff2, payoff3 and win by 100\n",
        "        ####\n",
        "        outcome_data.loc[:,\"payoff1\"] = outcome_data.loc[:,\"payoff1\"]/100\n",
        "        outcome_data.loc[:,\"payoff2\"] = outcome_data.loc[:,\"payoff2\"]/100\n",
        "        outcome_data.loc[:,\"payoff3\"] = outcome_data.loc[:,\"payoff3\"]/100\n",
        "        outcome_data.loc[:,\"win\"]     = outcome_data.loc[:,\"win\"]/100\n",
        "    outcome_data_tensor = torch.tensor(outcome_data.values).type(torch.Tensor)\n",
        "    \n",
        "    # the actual data has 8 emotions, but for illustration we just use 1 emotion, happy\n",
        "    # the rest of the functions below assume a 1-D \"y\" variable\n",
        "    emotion_data = data_readin.loc[:,EMOTION_VAR_NAMES]\n",
        "    #emotion_data = data_readin.loc[:, \"happy\"]\n",
        "    if normalize_values:\n",
        "        ## note that emotions are transformed from a 9 point Likert to [0,1] via emo <- (emo-1)/8\n",
        "        emotion_data   = (emotion_data-1)/8\n",
        "    #emotion_data = emotion_data.values.reshape( emotion_data.shape[0] , 1)\n",
        "    #emotion_data = torch.tensor(emotion_data).type(torch.Tensor)\n",
        "    emotion_data_tensor = torch.tensor(emotion_data.values).type(torch.Tensor)\n",
        "    \n",
        "    if preview_datafile:\n",
        "        print(\"Preview of first 3 rows:\")\n",
        "        print(outcome_data.loc[0:2,:])\n",
        "        print(emotion_data.loc[0:2,:])\n",
        "    \n",
        "    data = torch.cat((outcome_data_tensor, emotion_data_tensor), 1)\n",
        "    return data\n",
        "\n",
        "\n",
        "# reads in datafile.\n",
        "print(\"Reading in dataset...\")\n",
        "outcome_emotion_dataset = load_outcome_emotion_dataset(csv_file=dataset_path, preview_datafile=True)\n",
        "N_samples = outcome_emotion_dataset.shape[0]\n",
        "\n",
        "print(\"Shape of dataset: \", outcome_emotion_dataset.shape)"
      ],
      "execution_count": 2,
      "outputs": [
        {
          "output_type": "stream",
          "text": [
            "Reading in dataset...\n",
            "Preview of first 3 rows:\n",
            "   payoff1  payoff2  payoff3  prob1  prob2  prob3  win  winProb  angleProp\n",
            "0     0.50     0.75      0.9   0.30   0.52   0.18  0.5     0.30      0.921\n",
            "1     0.15     0.70      0.8   0.45   0.29   0.26  0.8     0.26      0.873\n",
            "2     0.50     0.75      0.9   0.30   0.52   0.18  0.5     0.30      0.467\n",
            "   happy    sad  anger  surprise  disgust  fear  content  disapp\n",
            "0  0.625  0.000  0.000     0.625     0.25   0.0    0.625   0.375\n",
            "1  0.875  0.000  0.000     1.000     0.00   0.0    0.000   0.000\n",
            "2  0.625  0.125  0.125     0.250     0.00   0.0    0.250   0.500\n",
            "Shape of dataset:  torch.Size([1541, 17])\n"
          ],
          "name": "stdout"
        }
      ]
    },
    {
      "cell_type": "markdown",
      "metadata": {
        "id": "LV66Nkxw8itO",
        "colab_type": "text"
      },
      "source": [
        "`compute_appraisal()` is a function that takes in an outcome vector, and returns a vector of appraisal values. The example below reproduces the appraisal function used in Ong et al (2015). But more generally, this is a modular function that can be substituted out to test other possible operationalizations of appraisal theories.text"
      ]
    },
    {
      "cell_type": "code",
      "metadata": {
        "id": "tLJpyI4-8i37",
        "colab_type": "code",
        "colab": {}
      },
      "source": [
        "def compute_appraisal(outcome_data):\n",
        "    # We have simple hard-coded appraisals, for illustration\n",
        "    # This is following Ong, Zaki, & Goodman (2015)\n",
        "    # the outcome data columns are, in order:\n",
        "    # [\"payoff1\", \"payoff2\", \"payoff3\", \"prob1\", \"prob2\", \"prob3\", \"win\", \"winProb\", \"angleProp\"]\n",
        "    # the 3 appraisal variables are: \n",
        "    #     amount won (\"win\"),\n",
        "    #     Prediction Error PE = win - EV, where EV = prob1*payoff1 + prob2*payoff2 + prob3*payoff3\n",
        "    #     absolute value of PE\n",
        "    \n",
        "    # if outcome_data only has 1 observation, reshape so vectorization works\n",
        "    if(len(outcome_data.shape)==1):\n",
        "        outcome_data = outcome_data.view(1,9)\n",
        "        print(outcome_data.shape)\n",
        "    \n",
        "    # initializing appraisalVals\n",
        "    appraisalVals = torch.zeros(size=(outcome_data.shape[0],3))\n",
        "    appraisalVals[:,0] = outcome_data[:,6] # amount won\n",
        "    \n",
        "    # Expected value\n",
        "    EV = outcome_data[:,0] * outcome_data[:,3] + \\\n",
        "         outcome_data[:,1] * outcome_data[:,4] + \\\n",
        "         outcome_data[:,2] * outcome_data[:,5]\n",
        "    \n",
        "    # prediction error and absolute PE\n",
        "    appraisalVals[:,1] = appraisalVals[:,0] - EV\n",
        "    appraisalVals[:,2] = abs(appraisalVals[:,1])\n",
        "    return(appraisalVals)\n"
      ],
      "execution_count": 0,
      "outputs": []
    },
    {
      "cell_type": "markdown",
      "metadata": {
        "id": "dyLpisMV8jFN",
        "colab_type": "text"
      },
      "source": [
        "## Model\n",
        "\n",
        "Next, we have the model. Let's break down what goes on.\n",
        "\n",
        "First, the model samples some $\\beta$ coefficients from a Normal with some priors over the mean and the scale (in this case, mean of 0 and scale of 1).\n",
        "This is achieved using the `pyro.sample()` function. \n",
        "For example,\n",
        "\n",
        "`b_0 = pyro.sample(\"b_0\", Normal(coeff_mean_prior, coeff_scale_prior))`\n",
        "\n",
        "\n",
        "Note that the `sample()` function takes in a variable name, which allows Pyro to uniquely identify that variable in its variable store. (As such, the variable names are unique, and you can only have one `sample()` function with a particular variable name in this function).\n",
        "\n",
        "\n",
        "\n",
        "Next, the function will loop over the observed data, using `pyro.plate()`. This function defines a special Pyro environment with a unique name (`\"map\"`), within which Pyro understands that each iteration of the \"loop\" is conditionally independent. Thus, the computation on each data-point is conditionally independent from the computation on other data-points. (This reflects the plate-notation in the model above; each datapoint is independent, BUT the $\\beta$ coefficients are the same across all of them, that's why they were defined before the `pyro.plate()` loop)\n",
        "\n",
        "Within this loop, we take the `outcome_data`, run it through `compute_appraisal()` to get a small 3-dimensional `appraisal_vars`. We manually compute the regression equation:\n",
        "\n",
        "`prediction = b_0 + b_1 * appraisal_vars[:,0] + b_2 * appraisal_vars[:,1] + b_3 * appraisal_vars[:,2]`\n",
        "\n",
        "Thus, `prediction` is the mean of the Normal distribution that the linear regression model predicts.\n",
        "Finally, we condition on the observed data:\n",
        "\n",
        "`pyro.sample(\"obs\", Normal(prediction, 1), obs = emotion_data)`\n",
        "\n",
        "Notice we use `pyro.sample()` again. We draw a sample from a Normal with mean `prediction` and scale 1, but this time, we condition that this sample is equal to the observed `emotion_data`, using the argument `obs = ...`.\n",
        "\n",
        "\n",
        "And that's basically it for this function. Pyro's `plate()` [function](https://pyro.ai/examples/svi_part_ii.html#Vectorized-plate) allow a flexible way to perform computations on individual datapoints while taking care of conditional independencies.\n",
        "\n",
        "(Note, earlier versions of `pyro` had `pyro.irange(), pyro.iarange()`, which have been subsumed into `pyro.plate()`)\n"
      ]
    },
    {
      "cell_type": "code",
      "metadata": {
        "id": "v3kndmO19Q8X",
        "colab_type": "code",
        "colab": {}
      },
      "source": [
        "def fit_regression_model(data):\n",
        "    # define the parameters that control the gaussian prior over the regression coeffs.\n",
        "    # mean = 0, scale = 1\n",
        "    coeff_mean_prior = torch.tensor(0.0)\n",
        "    coeff_scale_prior = torch.tensor(1.0)\n",
        "    \n",
        "    # sample b_0 (intercept) and b_1 to b_3 (regression coeffs)\n",
        "    b_0 = pyro.sample(\"b_0\", Normal(coeff_mean_prior, coeff_scale_prior))\n",
        "    b_1 = pyro.sample(\"b_1\", Normal(coeff_mean_prior, coeff_scale_prior))\n",
        "    b_2 = pyro.sample(\"b_2\", Normal(coeff_mean_prior, coeff_scale_prior))\n",
        "    b_3 = pyro.sample(\"b_3\", Normal(coeff_mean_prior, coeff_scale_prior))\n",
        "    \n",
        "    # loop over observed data\n",
        "    #with pyro.iarange(\"map\", data.shape[0]):\n",
        "    with pyro.plate(\"map\"):\n",
        "        outcome_data = data[:, :(OUTCOME_VAR_DIM)]\n",
        "        # Here, for simplification, we are only taking one emotion variable (happy)\n",
        "        # instead of all 8 emotions\n",
        "        emotion_data = data[:, OUTCOME_VAR_DIM]  \n",
        "        appraisal_vars = compute_appraisal(outcome_data)\n",
        "        \n",
        "        # run the regression forward\n",
        "        prediction = b_0 + b_1 * appraisal_vars[:,0] + b_2 * appraisal_vars[:,1] + b_3 * appraisal_vars[:,2]\n",
        "        # condition on the observed data\n",
        "        pyro.sample(\"obs\", Normal(prediction, 1), obs = emotion_data)"
      ],
      "execution_count": 0,
      "outputs": []
    },
    {
      "cell_type": "markdown",
      "metadata": {
        "id": "fiffFMGo9RkU",
        "colab_type": "text"
      },
      "source": [
        "## Guide\n",
        "\n",
        "We will use stochastic variational inference to do inference  (e.g., see [here](http://pyro.ai/examples/svi_part_i.html) and [here](http://pyro.ai/examples/svi_part_ii.html), or next example for more description). SVI involves using a parameterized distribution to help approximate the posterior distribution that we want to infer. Practically this means defining a function that runs 'parallel' to the `model()` that helps to guide the `model()` in making better sampling choices. Hence, this function is sometimes called the `guide()`. \n",
        "\n",
        "Specifically, we define the `guide()` such that:\n",
        "\n",
        "- it contains variational parameters via `pyro.param()`. In this case, these parameters are the $\\mu_i, \\sigma_i$'s that parameterize the regression parameters $b_i \\sim N(\\mu_i, \\sigma_i)$. \n",
        "- it has the same unconditional `pyro.sample()` call signature as `model()`. In this case, `pyro.sample(\"b_0\",...)` through `\"b_4\"`\n",
        "- it does not have any conditioned `pyro.sample()` calls."
      ]
    },
    {
      "cell_type": "code",
      "metadata": {
        "id": "FZZKqMoV9ZAT",
        "colab_type": "code",
        "colab": {}
      },
      "source": [
        "def fit_regression_guide(data):\n",
        "    mean_b0_param  = pyro.param(\"guide_mean_b0\",  torch.tensor(0.0))\n",
        "    scale_b0_param = pyro.param(\"guide_scale_b0\", torch.tensor(1.0))\n",
        "    mean_b1_param  = pyro.param(\"guide_mean_b1\",  torch.tensor(0.0))\n",
        "    scale_b1_param = pyro.param(\"guide_scale_b1\", torch.tensor(1.0))\n",
        "    mean_b2_param  = pyro.param(\"guide_mean_b2\",  torch.tensor(0.0))\n",
        "    scale_b2_param = pyro.param(\"guide_scale_b2\", torch.tensor(1.0))\n",
        "    mean_b3_param  = pyro.param(\"guide_mean_b3\",  torch.tensor(0.0))\n",
        "    scale_b3_param = pyro.param(\"guide_scale_b3\", torch.tensor(1.0))\n",
        "    # sample coefficients from Normal(mean, scale)\n",
        "    pyro.sample(\"b_0\", Normal(mean_b0_param, scale_b0_param))\n",
        "    pyro.sample(\"b_1\", Normal(mean_b1_param, scale_b1_param))\n",
        "    pyro.sample(\"b_2\", Normal(mean_b2_param, scale_b2_param))\n",
        "    pyro.sample(\"b_3\", Normal(mean_b3_param, scale_b3_param))\n",
        "    "
      ],
      "execution_count": 0,
      "outputs": []
    },
    {
      "cell_type": "markdown",
      "metadata": {
        "id": "4dzyT0-q9XeI",
        "colab_type": "text"
      },
      "source": [
        "## Fitting the model\n",
        "\n",
        "Next, we can proceed to actually fit the model. The first step is to refresh the parameter store using `pyro.clear_param_store()`.\n",
        "\n",
        "We will use Stochastic Variational Inference `SVI()` which takes in the model and guide that we wrote above, as well as an optimization algorithm (here we use `torch.optim.Adam()`) and a loss function (here we use `Trace_ELBO()`). When `svi.step(data)` is called, it runs SVI over the `data`. Thus, here we simply define a loop that runs over the entire dataset `num_iterations` times. (We can easily modify this to do mini-batching, for example, for large datasets.)"
      ]
    },
    {
      "cell_type": "code",
      "metadata": {
        "id": "FPG1G15d9Vv3",
        "colab_type": "code",
        "outputId": "9b79afeb-164f-4844-ba4b-1c937086ce17",
        "colab": {
          "base_uri": "https://localhost:8080/",
          "height": 482
        }
      },
      "source": [
        "pyro.clear_param_store()\n",
        "\n",
        "num_iterations = 1000\n",
        "\n",
        "# setup the optimizer with some learning rate\n",
        "optimizer = Adam({\"lr\": 0.005})\n",
        "\n",
        "# setup the inference algorithm\n",
        "svi = SVI(fit_regression_model, fit_regression_guide, optimizer, loss=Trace_ELBO())\n",
        "\n",
        "# do gradient steps\n",
        "losses = []\n",
        "for thisIteration in range(num_iterations):\n",
        "    # calculate the loss and take a gradient step\n",
        "    thisLoss = svi.step(outcome_emotion_dataset)\n",
        "    losses.append(thisLoss)\n",
        "    if thisIteration % 100 == 0:\n",
        "        print(\"[iteration %04d] loss: %.4f\" % (thisIteration + 1, thisLoss / float(N_samples)))\n",
        "\n",
        "plt.plot(losses)\n",
        "plt.title(\"ELBO\")\n",
        "plt.xlabel(\"step\")\n",
        "plt.ylabel(\"loss\")"
      ],
      "execution_count": 6,
      "outputs": [
        {
          "output_type": "stream",
          "text": [
            "[iteration 0001] loss: 1.7831\n",
            "[iteration 0101] loss: 1.0037\n",
            "[iteration 0201] loss: 0.9564\n",
            "[iteration 0301] loss: 1.0108\n",
            "[iteration 0401] loss: 1.0394\n",
            "[iteration 0501] loss: 0.9596\n",
            "[iteration 0601] loss: 0.9925\n",
            "[iteration 0701] loss: 0.9602\n",
            "[iteration 0801] loss: 0.9449\n",
            "[iteration 0901] loss: 0.9519\n"
          ],
          "name": "stdout"
        },
        {
          "output_type": "execute_result",
          "data": {
            "text/plain": [
              "Text(0, 0.5, 'loss')"
            ]
          },
          "metadata": {
            "tags": []
          },
          "execution_count": 6
        },
        {
          "output_type": "display_data",
          "data": {
            "image/png": "[encoded data removed]",
            "text/plain": [
              "<Figure size 432x288 with 1 Axes>"
            ]
          },
          "metadata": {
            "tags": []
          }
        }
      ]
    },
    {
      "cell_type": "code",
      "metadata": {
        "id": "gBFm-5NG9iOp",
        "colab_type": "code",
        "outputId": "e94c2c98-e4c6-4bf4-b617-90f6163557b9",
        "colab": {
          "base_uri": "https://localhost:8080/",
          "height": 85
        }
      },
      "source": [
        "# output the learned variational parameters\n",
        "print(\"b0 ~ Normal(%.4f, %.4f)\" % (pyro.param(\"guide_mean_b0\").item(), pyro.param(\"guide_scale_b0\").item()))\n",
        "print(\"b1 ~ Normal(%.4f, %.4f)\" % (pyro.param(\"guide_mean_b1\").item(), pyro.param(\"guide_scale_b1\").item()))\n",
        "print(\"b2 ~ Normal(%.4f, %.4f)\" % (pyro.param(\"guide_mean_b2\").item(), pyro.param(\"guide_scale_b2\").item()))\n",
        "print(\"b3 ~ Normal(%.4f, %.4f)\" % (pyro.param(\"guide_mean_b3\").item(), pyro.param(\"guide_scale_b3\").item()))"
      ],
      "execution_count": 7,
      "outputs": [
        {
          "output_type": "stream",
          "text": [
            "b0 ~ Normal(0.3245, 0.0255)\n",
            "b1 ~ Normal(0.4920, 0.0491)\n",
            "b2 ~ Normal(0.6424, 0.1258)\n",
            "b3 ~ Normal(0.0969, 0.1655)\n"
          ],
          "name": "stdout"
        }
      ]
    },
    {
      "cell_type": "markdown",
      "metadata": {
        "id": "_pKhafDd9jYe",
        "colab_type": "text"
      },
      "source": [
        "## Coda\n",
        "\n",
        "Hopefully the example above illustrates several appealing features of probabilistic programming:\n",
        "\n",
        "- We can use PPLs to specify theory, and importantly, uncertainty in theory and random processes.\n",
        "- Theory is represented as modular chunks of code. (As in our `compute_appraisal()` function, or in the linear regression model.) This allows us to substitute out different parts of the model, which is handy for optimization or theory testing!\n",
        "    - Want to try a different appraisal representation? No problem! \n",
        "    - Want to try using a feed-forward neural network instead of a linear regression? Sure (and in fact we will cover that in the next example!)\n",
        "- Inference and learning is orthogonal to model specification. Thus, the modeler can focus on specifying the model, while Pyro does most of the heavy lifting (by leveraging PyTorch modules).\n",
        "\n",
        "\n",
        "In the next example, we show how to incorporate a feed-forward neural network in order to build a deep generative model.\n",
        "\n",
        "\n",
        "\n",
        "---\n",
        "\n"
      ]
    },
    {
      "cell_type": "markdown",
      "metadata": {
        "id": "Va4k4wln9no5",
        "colab_type": "text"
      },
      "source": [
        "## Extra: Some further extensions to the linear regression model\n",
        "\n",
        "In the following code we modify the earlier model to handle an arbitrary number of regression parameters, and introduce the notion of \"lifting\" models to get distributions over *models* that we can sample from.\n",
        "\n",
        "Instead of using a low-dimensional `compute_appraisal()` function, we demonstrate a standard linear regression by defining an `appraisalRegressionModule()` that inherits from PyTorch's `nn.module`. (Note that a linear regression can be thought of as a feed-forward neural network with 0 hidden layers and no non-linearities, such that the output layer is just a linear combination of the input units). This is achieved using `nn.Linear()`:"
      ]
    },
    {
      "cell_type": "code",
      "metadata": {
        "id": "zcd3JYd09prI",
        "colab_type": "code",
        "colab": {}
      },
      "source": [
        "class appraisalRegressionModule(nn.Module):\n",
        "    def __init__(self, num_features):\n",
        "        super(appraisalRegressionModule, self).__init__()\n",
        "        self.linear = nn.Linear(num_features, 1)\n",
        "\n",
        "    def forward(self, outcome):\n",
        "        return self.linear(outcome)\n",
        "\n",
        "regression_model = appraisalRegressionModule(OUTCOME_VAR_DIM)"
      ],
      "execution_count": 0,
      "outputs": []
    },
    {
      "cell_type": "markdown",
      "metadata": {
        "id": "H9eAcZwE9rzN",
        "colab_type": "text"
      },
      "source": [
        "Next, we write the model. The main difference now is that we can define separate location and scale priors for each regressor, given by `weights_loc` and `weights_scale` below, which are each Tensors of Size(1,`OUTCOME_VAR_DIM`) (or any arbitrary length given by an appraisal transformation).\n",
        "\n",
        "Rather than typing out `OUTCOME_VAR_DIM` `pyro.sample()` statements, a fancier way of sampling using `weights_loc, weights_scale` is to \"lift\" the regression model using `pyro.random_module()`. This takes a model and a prior, and returns a *distribution over possible models*. In other words, we can think of this step as sampling models from a \"model-distribution\" (which under the hood, Pyro does by sampling the regression weights from their priors). Note that we do not see any `pyro.sample()` calls in the code below, as compared to the earlier code: these are taken care of by Pyro and will be executed when sampling from the distribution returned by `random_module()`.\n",
        "\n",
        "The rest of the code is the same as above."
      ]
    },
    {
      "cell_type": "code",
      "metadata": {
        "id": "5GhtnJV29r91",
        "colab_type": "code",
        "colab": {}
      },
      "source": [
        "def bayesianRegressionModel(data):\n",
        "    # Create unit normal priors over the parameters\n",
        "    weights_loc   = torch.zeros(size=(torch.Size((1, OUTCOME_VAR_DIM))))\n",
        "    weights_scale = torch.ones(size=(torch.Size((1, OUTCOME_VAR_DIM))))\n",
        "    weights_prior = Normal(weights_loc, weights_scale).independent(1)\n",
        "    \n",
        "    # location and scale prior for the bias\n",
        "    bias_loc   = torch.zeros(size=(torch.Size((1, ))))\n",
        "    bias_scale = torch.ones(size=(torch.Size((1, ))))\n",
        "    bias_prior = Normal(bias_loc, bias_scale).independent(1)\n",
        "    \n",
        "    priors = {'linear.weight': weights_prior, 'linear.bias': bias_prior}\n",
        "    # lift module parameters to random variables sampled from the priors\n",
        "    lifted_module = pyro.random_module(\"module\", regression_model, priors)\n",
        "    # sample a model (which also samples from weights_prior and bias_prior)\n",
        "    sampled_regression_model = lifted_module()\n",
        "    \n",
        "    #with pyro.iarange(\"map\", data.shape[0]):\n",
        "    with pyro.plate(\"map\"):\n",
        "        outcome_data = data[:, :(OUTCOME_VAR_DIM)]\n",
        "        # Here, for simplification, we are only taking one emotion variable (happy)\n",
        "        # instead of all 8 emotions\n",
        "        emotion_data = data[:, OUTCOME_VAR_DIM]  \n",
        "        \n",
        "        # run the regressor forward conditioned on data\n",
        "        prediction = sampled_regression_model(outcome_data).squeeze(-1)\n",
        "        # condition on the observed data\n",
        "        pyro.sample(\"obs\", Normal(prediction, 1), obs = emotion_data)"
      ],
      "execution_count": 0,
      "outputs": []
    },
    {
      "cell_type": "markdown",
      "metadata": {
        "id": "oBYAoC0_9ybn",
        "colab_type": "text"
      },
      "source": [
        "We write the guide function in a parallel manner to the model function. Note that we register the variational parameters in Pyro's parameter store using the `pyro.param()` function, just like above. We do the same trick of lifting the regression model using a `pyro.random_module()` call and sample from it."
      ]
    },
    {
      "cell_type": "code",
      "metadata": {
        "id": "EHso9eS49y92",
        "colab_type": "code",
        "colab": {}
      },
      "source": [
        "def bayesianRegressionGuide(data):\n",
        "    # define our variational parameters\n",
        "    weights_loc   = torch.randn(1, OUTCOME_VAR_DIM)\n",
        "    # Note that the scale has to be non-negative. Thus, we use exp() to get a non-negative number.\n",
        "    # we also use a narrower scale (exp(-1) ~ 0.35 instead of exp(0) = 1)\n",
        "    weights_scale = torch.exp(-1.0 * torch.ones(1, OUTCOME_VAR_DIM) + 0.05 * torch.randn(1, OUTCOME_VAR_DIM))\n",
        "    bias_loc      = torch.randn(1)\n",
        "    bias_scale    = torch.exp(-1.0 * torch.ones(1) + 0.05 * torch.randn(1))\n",
        "\n",
        "    # using pyro.param() to register the variational parameters\n",
        "    weight_loc_param   = pyro.param(\"guide_loc_weight\", weights_loc)\n",
        "    weight_scale_param = pyro.param(\"guide_scale_weight\", weights_scale)\n",
        "    bias_loc_param     = pyro.param(\"guide_loc_bias\", bias_loc)\n",
        "    bias_scale_param   = pyro.param(\"guide_scale_bias\", bias_scale)\n",
        "    # guide distributions for w and b\n",
        "    weight_dist = Normal(weight_loc_param, weight_scale_param).independent(1)\n",
        "    bias_dist   = Normal(bias_loc_param, bias_scale_param).independent(1)\n",
        "    dists = {'linear.weight': weight_dist, 'linear.bias': bias_dist}\n",
        "    # lift the module and sample from that distribution\n",
        "    lifted_module = pyro.random_module(\"module\", regression_model, dists)\n",
        "    return lifted_module()"
      ],
      "execution_count": 0,
      "outputs": []
    },
    {
      "cell_type": "markdown",
      "metadata": {
        "id": "UMxlBsu992cA",
        "colab_type": "text"
      },
      "source": [
        "Next we fit this regression model using SVI; this is identical to the code earlier."
      ]
    },
    {
      "cell_type": "code",
      "metadata": {
        "id": "dr5MSSrl93HT",
        "colab_type": "code",
        "outputId": "0bd90bb0-66c4-4930-f453-0b8d7074cab7",
        "colab": {
          "base_uri": "https://localhost:8080/",
          "height": 482
        }
      },
      "source": [
        "pyro.clear_param_store()\n",
        "\n",
        "num_iterations = 1000\n",
        "\n",
        "# setup the optimizer with some learning rate\n",
        "optimizer = Adam({\"lr\": 0.005})\n",
        "\n",
        "# setup the inference algorithm\n",
        "bayesianRegressionSVI = SVI(bayesianRegressionModel, bayesianRegressionGuide, optimizer, loss=Trace_ELBO())\n",
        "\n",
        "# do gradient steps\n",
        "losses = []\n",
        "for thisIteration in range(num_iterations):\n",
        "    # calculate the loss and take a gradient step\n",
        "    thisLoss = bayesianRegressionSVI.step(outcome_emotion_dataset)\n",
        "    losses.append(thisLoss)\n",
        "    if thisIteration % 100 == 0:\n",
        "        print(\"[iteration %04d] loss: %.4f\" % (thisIteration + 1, thisLoss / float(N_samples)))\n",
        "        \n",
        "\n",
        "plt.plot(losses)\n",
        "plt.title(\"ELBO\")\n",
        "plt.xlabel(\"step\")\n",
        "plt.ylabel(\"loss\")"
      ],
      "execution_count": 11,
      "outputs": [
        {
          "output_type": "stream",
          "text": [
            "[iteration 0001] loss: 1.1120\n",
            "[iteration 0101] loss: 1.2813\n",
            "[iteration 0201] loss: 1.1564\n",
            "[iteration 0301] loss: 1.0882\n",
            "[iteration 0401] loss: 1.0364\n",
            "[iteration 0501] loss: 1.0153\n",
            "[iteration 0601] loss: 1.0082\n",
            "[iteration 0701] loss: 0.9916\n",
            "[iteration 0801] loss: 0.9887\n",
            "[iteration 0901] loss: 0.9796\n"
          ],
          "name": "stdout"
        },
        {
          "output_type": "execute_result",
          "data": {
            "text/plain": [
              "Text(0, 0.5, 'loss')"
            ]
          },
          "metadata": {
            "tags": []
          },
          "execution_count": 11
        },
        {
          "output_type": "display_data",
          "data": {
            "image/png": "[encoded data removed]",
            "text/plain": [
              "<Figure size 432x288 with 1 Axes>"
            ]
          },
          "metadata": {
            "tags": []
          }
        }
      ]
    },
    {
      "cell_type": "code",
      "metadata": {
        "id": "AV5NFgMy97G7",
        "colab_type": "code",
        "outputId": "5bc18f56-5b01-4303-82a5-4d0c921fff50",
        "colab": {
          "base_uri": "https://localhost:8080/",
          "height": 187
        }
      },
      "source": [
        "#for name in pyro.get_param_store().get_all_param_names():\n",
        "#    print(name, pyro.param(name).data.numpy())\n",
        "\n",
        "guide_loc_weight = pyro.param(\"guide_loc_weight\")[0]\n",
        "guide_scale_weight = pyro.param(\"guide_scale_weight\")[0]\n",
        "\n",
        "print(\"b0 ~ Normal(%.4f, %.4f)\" % (pyro.param(\"guide_loc_bias\").item(), pyro.param(\"guide_scale_bias\").item()))\n",
        "for j in range(len(guide_loc_weight)):\n",
        "    print(\"b%1d\" % (j+1), \"~ Normal(%.4f, %.4f)\" % (guide_loc_weight[j], guide_scale_weight[j]))\n",
        "    "
      ],
      "execution_count": 12,
      "outputs": [
        {
          "output_type": "stream",
          "text": [
            "b0 ~ Normal(0.1334, 0.0354)\n",
            "b1 ~ Normal(-0.4693, 0.0843)\n",
            "b2 ~ Normal(-0.9537, 0.0511)\n",
            "b3 ~ Normal(1.6741, 0.0383)\n",
            "b4 ~ Normal(-0.0741, 0.0570)\n",
            "b5 ~ Normal(0.2037, 0.0629)\n",
            "b6 ~ Normal(-2.0433, 0.0999)\n",
            "b7 ~ Normal(1.2785, 0.0457)\n",
            "b8 ~ Normal(-1.1257, 0.0579)\n",
            "b9 ~ Normal(-0.1032, 0.0535)\n"
          ],
          "name": "stdout"
        }
      ]
    },
    {
      "cell_type": "markdown",
      "metadata": {
        "id": "i2h3_2EC97dX",
        "colab_type": "text"
      },
      "source": [
        "-----\n",
        "\n",
        "Written by: Desmond Ong (desmond.c.ong@gmail.com)\n",
        "\n",
        "References:\n",
        "\n",
        "Pyro [Bayesian Regression tutorial](http://pyro.ai/examples/bayesian_regression.html)\n",
        "\n",
        "\n",
        "Data from https://github.com/desmond-ong/affCog, from the following paper:\n",
        "\n",
        "Ong, D. C., Zaki, J., & Goodman, N. D. (2015). Affective Cognition: Exploring lay theories of emotion. *Cognition*, 143, 141-162."
      ]
    }
  ]
}